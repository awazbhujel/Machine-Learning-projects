{
  "nbformat": 4,
  "nbformat_minor": 0,
  "metadata": {
    "colab": {
      "provenance": [],
      "authorship_tag": "ABX9TyMFQHPPHPQdfV23OLCSGqVy",
      "include_colab_link": true
    },
    "kernelspec": {
      "name": "python3",
      "display_name": "Python 3"
    },
    "language_info": {
      "name": "python"
    }
  },
  "cells": [
    {
      "cell_type": "markdown",
      "metadata": {
        "id": "view-in-github",
        "colab_type": "text"
      },
      "source": [
        "<a href=\"https://colab.research.google.com/github/awazbhujel/MachineLearning/blob/master/Future_Sales_Prediction_with_Machine_Learning.ipynb\" target=\"_parent\"><img src=\"https://colab.research.google.com/assets/colab-badge.svg\" alt=\"Open In Colab\"/></a>"
      ]
    },
    {
      "cell_type": "markdown",
      "source": [
        "**Future Sales Prediction**\n"
      ],
      "metadata": {
        "id": "6RT_S76yrtsU"
      }
    },
    {
      "cell_type": "markdown",
      "source": [
        "\n",
        "**Predicting the future sales of a product helps a business manage the manufacturing and advertising cost of the product. There are many more benefits of predicting the future sales of a product**"
      ],
      "metadata": {
        "id": "xLrTn0tcrm7t"
      }
    },
    {
      "cell_type": "markdown",
      "source": [
        "**Future Sales Prediction (Case Study)**\n",
        "\n",
        "The dataset given here contains the data about the sales of the product. The dataset is about the advertising cost incurred by the business on various advertising platforms. Below is the description of all the columns in the dataset:\n",
        "\n",
        "1. **TV**: Advertising cost spent in dollars for advertising on TV;\n",
        "2. **Radio**: Advertising cost spent in dollars for advertising on Radio;\n",
        "3. **Newspaper**: Advertising cost spent in dollars for advertising on Newspaper;\n",
        "4.**Sales**: Number of units sold;"
      ],
      "metadata": {
        "id": "Q2qSTox1r09q"
      }
    },
    {
      "cell_type": "markdown",
      "source": [
        "So, in the above dataset, the sales of the product depend on the advertisement cost of the product.lets analyze the data and do the prediction of future sales"
      ],
      "metadata": {
        "id": "AxNV_zi0sjFj"
      }
    },
    {
      "cell_type": "markdown",
      "source": [
        "**Import all the necessay library**"
      ],
      "metadata": {
        "id": "tQgCOQ-AtRzO"
      }
    },
    {
      "cell_type": "code",
      "execution_count": null,
      "metadata": {
        "id": "Goabej_pqo1Q"
      },
      "outputs": [],
      "source": [
        "import numpy as np\n",
        "import pandas as pd\n",
        "import seaborn  as sns\n",
        "import matplotlib.pyplot as plt\n",
        "%matplotlib inline\n",
        "from sklearn.model_selection import train_test_split\n",
        "from sklearn.linear_model import LinearRegression"
      ]
    },
    {
      "cell_type": "code",
      "source": [
        "df = pd.read_csv(\"https://raw.githubusercontent.com/amankharwal/Website-data/master/advertising.csv\")"
      ],
      "metadata": {
        "id": "ljGVk1NfrwDU"
      },
      "execution_count": null,
      "outputs": []
    },
    {
      "cell_type": "code",
      "source": [
        "df.head()"
      ],
      "metadata": {
        "colab": {
          "base_uri": "https://localhost:8080/",
          "height": 206
        },
        "id": "CWJc-WHerwFu",
        "outputId": "a42e24a4-d72e-4b80-fc58-638dbb49fa2f"
      },
      "execution_count": null,
      "outputs": [
        {
          "output_type": "execute_result",
          "data": {
            "text/plain": [
              "      TV  Radio  Newspaper  Sales\n",
              "0  230.1   37.8       69.2   22.1\n",
              "1   44.5   39.3       45.1   10.4\n",
              "2   17.2   45.9       69.3   12.0\n",
              "3  151.5   41.3       58.5   16.5\n",
              "4  180.8   10.8       58.4   17.9"
            ],
            "text/html": [
              "\n",
              "  <div id=\"df-3f2e4ea1-c863-42f9-8c7e-7a51e16209a0\">\n",
              "    <div class=\"colab-df-container\">\n",
              "      <div>\n",
              "<style scoped>\n",
              "    .dataframe tbody tr th:only-of-type {\n",
              "        vertical-align: middle;\n",
              "    }\n",
              "\n",
              "    .dataframe tbody tr th {\n",
              "        vertical-align: top;\n",
              "    }\n",
              "\n",
              "    .dataframe thead th {\n",
              "        text-align: right;\n",
              "    }\n",
              "</style>\n",
              "<table border=\"1\" class=\"dataframe\">\n",
              "  <thead>\n",
              "    <tr style=\"text-align: right;\">\n",
              "      <th></th>\n",
              "      <th>TV</th>\n",
              "      <th>Radio</th>\n",
              "      <th>Newspaper</th>\n",
              "      <th>Sales</th>\n",
              "    </tr>\n",
              "  </thead>\n",
              "  <tbody>\n",
              "    <tr>\n",
              "      <th>0</th>\n",
              "      <td>230.1</td>\n",
              "      <td>37.8</td>\n",
              "      <td>69.2</td>\n",
              "      <td>22.1</td>\n",
              "    </tr>\n",
              "    <tr>\n",
              "      <th>1</th>\n",
              "      <td>44.5</td>\n",
              "      <td>39.3</td>\n",
              "      <td>45.1</td>\n",
              "      <td>10.4</td>\n",
              "    </tr>\n",
              "    <tr>\n",
              "      <th>2</th>\n",
              "      <td>17.2</td>\n",
              "      <td>45.9</td>\n",
              "      <td>69.3</td>\n",
              "      <td>12.0</td>\n",
              "    </tr>\n",
              "    <tr>\n",
              "      <th>3</th>\n",
              "      <td>151.5</td>\n",
              "      <td>41.3</td>\n",
              "      <td>58.5</td>\n",
              "      <td>16.5</td>\n",
              "    </tr>\n",
              "    <tr>\n",
              "      <th>4</th>\n",
              "      <td>180.8</td>\n",
              "      <td>10.8</td>\n",
              "      <td>58.4</td>\n",
              "      <td>17.9</td>\n",
              "    </tr>\n",
              "  </tbody>\n",
              "</table>\n",
              "</div>\n",
              "      <button class=\"colab-df-convert\" onclick=\"convertToInteractive('df-3f2e4ea1-c863-42f9-8c7e-7a51e16209a0')\"\n",
              "              title=\"Convert this dataframe to an interactive table.\"\n",
              "              style=\"display:none;\">\n",
              "        \n",
              "  <svg xmlns=\"http://www.w3.org/2000/svg\" height=\"24px\"viewBox=\"0 0 24 24\"\n",
              "       width=\"24px\">\n",
              "    <path d=\"M0 0h24v24H0V0z\" fill=\"none\"/>\n",
              "    <path d=\"M18.56 5.44l.94 2.06.94-2.06 2.06-.94-2.06-.94-.94-2.06-.94 2.06-2.06.94zm-11 1L8.5 8.5l.94-2.06 2.06-.94-2.06-.94L8.5 2.5l-.94 2.06-2.06.94zm10 10l.94 2.06.94-2.06 2.06-.94-2.06-.94-.94-2.06-.94 2.06-2.06.94z\"/><path d=\"M17.41 7.96l-1.37-1.37c-.4-.4-.92-.59-1.43-.59-.52 0-1.04.2-1.43.59L10.3 9.45l-7.72 7.72c-.78.78-.78 2.05 0 2.83L4 21.41c.39.39.9.59 1.41.59.51 0 1.02-.2 1.41-.59l7.78-7.78 2.81-2.81c.8-.78.8-2.07 0-2.86zM5.41 20L4 18.59l7.72-7.72 1.47 1.35L5.41 20z\"/>\n",
              "  </svg>\n",
              "      </button>\n",
              "      \n",
              "  <style>\n",
              "    .colab-df-container {\n",
              "      display:flex;\n",
              "      flex-wrap:wrap;\n",
              "      gap: 12px;\n",
              "    }\n",
              "\n",
              "    .colab-df-convert {\n",
              "      background-color: #E8F0FE;\n",
              "      border: none;\n",
              "      border-radius: 50%;\n",
              "      cursor: pointer;\n",
              "      display: none;\n",
              "      fill: #1967D2;\n",
              "      height: 32px;\n",
              "      padding: 0 0 0 0;\n",
              "      width: 32px;\n",
              "    }\n",
              "\n",
              "    .colab-df-convert:hover {\n",
              "      background-color: #E2EBFA;\n",
              "      box-shadow: 0px 1px 2px rgba(60, 64, 67, 0.3), 0px 1px 3px 1px rgba(60, 64, 67, 0.15);\n",
              "      fill: #174EA6;\n",
              "    }\n",
              "\n",
              "    [theme=dark] .colab-df-convert {\n",
              "      background-color: #3B4455;\n",
              "      fill: #D2E3FC;\n",
              "    }\n",
              "\n",
              "    [theme=dark] .colab-df-convert:hover {\n",
              "      background-color: #434B5C;\n",
              "      box-shadow: 0px 1px 3px 1px rgba(0, 0, 0, 0.15);\n",
              "      filter: drop-shadow(0px 1px 2px rgba(0, 0, 0, 0.3));\n",
              "      fill: #FFFFFF;\n",
              "    }\n",
              "  </style>\n",
              "\n",
              "      <script>\n",
              "        const buttonEl =\n",
              "          document.querySelector('#df-3f2e4ea1-c863-42f9-8c7e-7a51e16209a0 button.colab-df-convert');\n",
              "        buttonEl.style.display =\n",
              "          google.colab.kernel.accessAllowed ? 'block' : 'none';\n",
              "\n",
              "        async function convertToInteractive(key) {\n",
              "          const element = document.querySelector('#df-3f2e4ea1-c863-42f9-8c7e-7a51e16209a0');\n",
              "          const dataTable =\n",
              "            await google.colab.kernel.invokeFunction('convertToInteractive',\n",
              "                                                     [key], {});\n",
              "          if (!dataTable) return;\n",
              "\n",
              "          const docLinkHtml = 'Like what you see? Visit the ' +\n",
              "            '<a target=\"_blank\" href=https://colab.research.google.com/notebooks/data_table.ipynb>data table notebook</a>'\n",
              "            + ' to learn more about interactive tables.';\n",
              "          element.innerHTML = '';\n",
              "          dataTable['output_type'] = 'display_data';\n",
              "          await google.colab.output.renderOutput(dataTable, element);\n",
              "          const docLink = document.createElement('div');\n",
              "          docLink.innerHTML = docLinkHtml;\n",
              "          element.appendChild(docLink);\n",
              "        }\n",
              "      </script>\n",
              "    </div>\n",
              "  </div>\n",
              "  "
            ]
          },
          "metadata": {},
          "execution_count": 17
        }
      ]
    },
    {
      "cell_type": "code",
      "source": [
        "df.info()"
      ],
      "metadata": {
        "colab": {
          "base_uri": "https://localhost:8080/"
        },
        "id": "XOv2SWt9vxKF",
        "outputId": "0959c308-951b-4f9d-e114-5e125a21b340"
      },
      "execution_count": null,
      "outputs": [
        {
          "output_type": "stream",
          "name": "stdout",
          "text": [
            "<class 'pandas.core.frame.DataFrame'>\n",
            "RangeIndex: 200 entries, 0 to 199\n",
            "Data columns (total 4 columns):\n",
            " #   Column     Non-Null Count  Dtype  \n",
            "---  ------     --------------  -----  \n",
            " 0   TV         200 non-null    float64\n",
            " 1   Radio      200 non-null    float64\n",
            " 2   Newspaper  200 non-null    float64\n",
            " 3   Sales      200 non-null    float64\n",
            "dtypes: float64(4)\n",
            "memory usage: 6.4 KB\n"
          ]
        }
      ]
    },
    {
      "cell_type": "markdown",
      "source": [
        "checking the null values"
      ],
      "metadata": {
        "id": "CKj3DG4ethAF"
      }
    },
    {
      "cell_type": "code",
      "source": [
        "df.isnull().sum()"
      ],
      "metadata": {
        "colab": {
          "base_uri": "https://localhost:8080/"
        },
        "id": "rsS22S9frwIf",
        "outputId": "8c46c20a-0a2d-41ce-9ef5-0ad6b63a499d"
      },
      "execution_count": null,
      "outputs": [
        {
          "output_type": "execute_result",
          "data": {
            "text/plain": [
              "TV           0\n",
              "Radio        0\n",
              "Newspaper    0\n",
              "Sales        0\n",
              "dtype: int64"
            ]
          },
          "metadata": {},
          "execution_count": 18
        }
      ]
    },
    {
      "cell_type": "code",
      "source": [
        "df.describe()"
      ],
      "metadata": {
        "colab": {
          "base_uri": "https://localhost:8080/",
          "height": 300
        },
        "id": "sm_dT4yErwK5",
        "outputId": "b65158f0-f29a-4cac-d4f3-72a522e3eb23"
      },
      "execution_count": null,
      "outputs": [
        {
          "output_type": "execute_result",
          "data": {
            "text/plain": [
              "               TV       Radio   Newspaper       Sales\n",
              "count  200.000000  200.000000  200.000000  200.000000\n",
              "mean   147.042500   23.264000   30.554000   15.130500\n",
              "std     85.854236   14.846809   21.778621    5.283892\n",
              "min      0.700000    0.000000    0.300000    1.600000\n",
              "25%     74.375000    9.975000   12.750000   11.000000\n",
              "50%    149.750000   22.900000   25.750000   16.000000\n",
              "75%    218.825000   36.525000   45.100000   19.050000\n",
              "max    296.400000   49.600000  114.000000   27.000000"
            ],
            "text/html": [
              "\n",
              "  <div id=\"df-88742a8e-cf43-4626-8b62-9ec0108002d3\">\n",
              "    <div class=\"colab-df-container\">\n",
              "      <div>\n",
              "<style scoped>\n",
              "    .dataframe tbody tr th:only-of-type {\n",
              "        vertical-align: middle;\n",
              "    }\n",
              "\n",
              "    .dataframe tbody tr th {\n",
              "        vertical-align: top;\n",
              "    }\n",
              "\n",
              "    .dataframe thead th {\n",
              "        text-align: right;\n",
              "    }\n",
              "</style>\n",
              "<table border=\"1\" class=\"dataframe\">\n",
              "  <thead>\n",
              "    <tr style=\"text-align: right;\">\n",
              "      <th></th>\n",
              "      <th>TV</th>\n",
              "      <th>Radio</th>\n",
              "      <th>Newspaper</th>\n",
              "      <th>Sales</th>\n",
              "    </tr>\n",
              "  </thead>\n",
              "  <tbody>\n",
              "    <tr>\n",
              "      <th>count</th>\n",
              "      <td>200.000000</td>\n",
              "      <td>200.000000</td>\n",
              "      <td>200.000000</td>\n",
              "      <td>200.000000</td>\n",
              "    </tr>\n",
              "    <tr>\n",
              "      <th>mean</th>\n",
              "      <td>147.042500</td>\n",
              "      <td>23.264000</td>\n",
              "      <td>30.554000</td>\n",
              "      <td>15.130500</td>\n",
              "    </tr>\n",
              "    <tr>\n",
              "      <th>std</th>\n",
              "      <td>85.854236</td>\n",
              "      <td>14.846809</td>\n",
              "      <td>21.778621</td>\n",
              "      <td>5.283892</td>\n",
              "    </tr>\n",
              "    <tr>\n",
              "      <th>min</th>\n",
              "      <td>0.700000</td>\n",
              "      <td>0.000000</td>\n",
              "      <td>0.300000</td>\n",
              "      <td>1.600000</td>\n",
              "    </tr>\n",
              "    <tr>\n",
              "      <th>25%</th>\n",
              "      <td>74.375000</td>\n",
              "      <td>9.975000</td>\n",
              "      <td>12.750000</td>\n",
              "      <td>11.000000</td>\n",
              "    </tr>\n",
              "    <tr>\n",
              "      <th>50%</th>\n",
              "      <td>149.750000</td>\n",
              "      <td>22.900000</td>\n",
              "      <td>25.750000</td>\n",
              "      <td>16.000000</td>\n",
              "    </tr>\n",
              "    <tr>\n",
              "      <th>75%</th>\n",
              "      <td>218.825000</td>\n",
              "      <td>36.525000</td>\n",
              "      <td>45.100000</td>\n",
              "      <td>19.050000</td>\n",
              "    </tr>\n",
              "    <tr>\n",
              "      <th>max</th>\n",
              "      <td>296.400000</td>\n",
              "      <td>49.600000</td>\n",
              "      <td>114.000000</td>\n",
              "      <td>27.000000</td>\n",
              "    </tr>\n",
              "  </tbody>\n",
              "</table>\n",
              "</div>\n",
              "      <button class=\"colab-df-convert\" onclick=\"convertToInteractive('df-88742a8e-cf43-4626-8b62-9ec0108002d3')\"\n",
              "              title=\"Convert this dataframe to an interactive table.\"\n",
              "              style=\"display:none;\">\n",
              "        \n",
              "  <svg xmlns=\"http://www.w3.org/2000/svg\" height=\"24px\"viewBox=\"0 0 24 24\"\n",
              "       width=\"24px\">\n",
              "    <path d=\"M0 0h24v24H0V0z\" fill=\"none\"/>\n",
              "    <path d=\"M18.56 5.44l.94 2.06.94-2.06 2.06-.94-2.06-.94-.94-2.06-.94 2.06-2.06.94zm-11 1L8.5 8.5l.94-2.06 2.06-.94-2.06-.94L8.5 2.5l-.94 2.06-2.06.94zm10 10l.94 2.06.94-2.06 2.06-.94-2.06-.94-.94-2.06-.94 2.06-2.06.94z\"/><path d=\"M17.41 7.96l-1.37-1.37c-.4-.4-.92-.59-1.43-.59-.52 0-1.04.2-1.43.59L10.3 9.45l-7.72 7.72c-.78.78-.78 2.05 0 2.83L4 21.41c.39.39.9.59 1.41.59.51 0 1.02-.2 1.41-.59l7.78-7.78 2.81-2.81c.8-.78.8-2.07 0-2.86zM5.41 20L4 18.59l7.72-7.72 1.47 1.35L5.41 20z\"/>\n",
              "  </svg>\n",
              "      </button>\n",
              "      \n",
              "  <style>\n",
              "    .colab-df-container {\n",
              "      display:flex;\n",
              "      flex-wrap:wrap;\n",
              "      gap: 12px;\n",
              "    }\n",
              "\n",
              "    .colab-df-convert {\n",
              "      background-color: #E8F0FE;\n",
              "      border: none;\n",
              "      border-radius: 50%;\n",
              "      cursor: pointer;\n",
              "      display: none;\n",
              "      fill: #1967D2;\n",
              "      height: 32px;\n",
              "      padding: 0 0 0 0;\n",
              "      width: 32px;\n",
              "    }\n",
              "\n",
              "    .colab-df-convert:hover {\n",
              "      background-color: #E2EBFA;\n",
              "      box-shadow: 0px 1px 2px rgba(60, 64, 67, 0.3), 0px 1px 3px 1px rgba(60, 64, 67, 0.15);\n",
              "      fill: #174EA6;\n",
              "    }\n",
              "\n",
              "    [theme=dark] .colab-df-convert {\n",
              "      background-color: #3B4455;\n",
              "      fill: #D2E3FC;\n",
              "    }\n",
              "\n",
              "    [theme=dark] .colab-df-convert:hover {\n",
              "      background-color: #434B5C;\n",
              "      box-shadow: 0px 1px 3px 1px rgba(0, 0, 0, 0.15);\n",
              "      filter: drop-shadow(0px 1px 2px rgba(0, 0, 0, 0.3));\n",
              "      fill: #FFFFFF;\n",
              "    }\n",
              "  </style>\n",
              "\n",
              "      <script>\n",
              "        const buttonEl =\n",
              "          document.querySelector('#df-88742a8e-cf43-4626-8b62-9ec0108002d3 button.colab-df-convert');\n",
              "        buttonEl.style.display =\n",
              "          google.colab.kernel.accessAllowed ? 'block' : 'none';\n",
              "\n",
              "        async function convertToInteractive(key) {\n",
              "          const element = document.querySelector('#df-88742a8e-cf43-4626-8b62-9ec0108002d3');\n",
              "          const dataTable =\n",
              "            await google.colab.kernel.invokeFunction('convertToInteractive',\n",
              "                                                     [key], {});\n",
              "          if (!dataTable) return;\n",
              "\n",
              "          const docLinkHtml = 'Like what you see? Visit the ' +\n",
              "            '<a target=\"_blank\" href=https://colab.research.google.com/notebooks/data_table.ipynb>data table notebook</a>'\n",
              "            + ' to learn more about interactive tables.';\n",
              "          element.innerHTML = '';\n",
              "          dataTable['output_type'] = 'display_data';\n",
              "          await google.colab.output.renderOutput(dataTable, element);\n",
              "          const docLink = document.createElement('div');\n",
              "          docLink.innerHTML = docLinkHtml;\n",
              "          element.appendChild(docLink);\n",
              "        }\n",
              "      </script>\n",
              "    </div>\n",
              "  </div>\n",
              "  "
            ]
          },
          "metadata": {},
          "execution_count": 19
        }
      ]
    },
    {
      "cell_type": "code",
      "source": [
        "#checking the dupllicate values\n",
        "df[df.duplicated()].sum()"
      ],
      "metadata": {
        "colab": {
          "base_uri": "https://localhost:8080/"
        },
        "id": "LJlDCF49wMcn",
        "outputId": "8bfbe466-8507-456b-cab9-0a6f1880fe91"
      },
      "execution_count": null,
      "outputs": [
        {
          "output_type": "execute_result",
          "data": {
            "text/plain": [
              "TV           0.0\n",
              "Radio        0.0\n",
              "Newspaper    0.0\n",
              "Sales        0.0\n",
              "dtype: float64"
            ]
          },
          "metadata": {},
          "execution_count": 35
        }
      ]
    },
    {
      "cell_type": "code",
      "source": [
        "#removing duplicates\n",
        "df.drop_duplicates(inplace=True)"
      ],
      "metadata": {
        "id": "WOJ6XpdwwFVJ"
      },
      "execution_count": null,
      "outputs": []
    },
    {
      "cell_type": "markdown",
      "source": [
        "**Univariate Analysis**"
      ],
      "metadata": {
        "id": "NOGmkrAf6umt"
      }
    },
    {
      "cell_type": "code",
      "source": [
        "df[\"Sales\"].describe()"
      ],
      "metadata": {
        "colab": {
          "base_uri": "https://localhost:8080/"
        },
        "id": "dYF1Wrwd6txn",
        "outputId": "37fa1a97-372b-4ae3-fe2c-b032d1f83a6b"
      },
      "execution_count": null,
      "outputs": [
        {
          "output_type": "execute_result",
          "data": {
            "text/plain": [
              "count    200.000000\n",
              "mean      15.130500\n",
              "std        5.283892\n",
              "min        1.600000\n",
              "25%       11.000000\n",
              "50%       16.000000\n",
              "75%       19.050000\n",
              "max       27.000000\n",
              "Name: Sales, dtype: float64"
            ]
          },
          "metadata": {},
          "execution_count": 82
        }
      ]
    },
    {
      "cell_type": "code",
      "source": [
        "df[\"TV\"].plot(kind=\"hist\")"
      ],
      "metadata": {
        "colab": {
          "base_uri": "https://localhost:8080/",
          "height": 447
        },
        "id": "Vx5WspNd8F-2",
        "outputId": "85abbd21-cb93-45e2-da1d-1d518cf5ac6c"
      },
      "execution_count": null,
      "outputs": [
        {
          "output_type": "execute_result",
          "data": {
            "text/plain": [
              "<Axes: ylabel='Frequency'>"
            ]
          },
          "metadata": {},
          "execution_count": 89
        },
        {
          "output_type": "display_data",
          "data": {
            "text/plain": [
              "<Figure size 640x480 with 1 Axes>"
            ],
            "image/png": "[encoded data removed]"
          },
          "metadata": {}
        }
      ]
    },
    {
      "cell_type": "markdown",
      "source": [
        "it shows uniform distribution"
      ],
      "metadata": {
        "id": "0TK5Txie8Lwm"
      }
    },
    {
      "cell_type": "code",
      "source": [
        "df[\"Sales\"].plot(kind=\"hist\")"
      ],
      "metadata": {
        "colab": {
          "base_uri": "https://localhost:8080/",
          "height": 447
        },
        "id": "mmKP17Rm7FRb",
        "outputId": "5e84cb37-70e7-4801-8c04-d282736db782"
      },
      "execution_count": null,
      "outputs": [
        {
          "output_type": "execute_result",
          "data": {
            "text/plain": [
              "<Axes: ylabel='Frequency'>"
            ]
          },
          "metadata": {},
          "execution_count": 90
        },
        {
          "output_type": "display_data",
          "data": {
            "text/plain": [
              "<Figure size 640x480 with 1 Axes>"
            ],
            "image/png": "[encoded data removed]"
          },
          "metadata": {}
        }
      ]
    },
    {
      "cell_type": "code",
      "source": [
        "df[\"Sales\"].plot(kind=\"box\")"
      ],
      "metadata": {
        "colab": {
          "base_uri": "https://localhost:8080/",
          "height": 447
        },
        "id": "zUsmbCZ57Ko4",
        "outputId": "0bd7a423-16e1-4d19-cc61-9e8096ef872c"
      },
      "execution_count": null,
      "outputs": [
        {
          "output_type": "execute_result",
          "data": {
            "text/plain": [
              "<Axes: >"
            ]
          },
          "metadata": {},
          "execution_count": 85
        },
        {
          "output_type": "display_data",
          "data": {
            "text/plain": [
              "<Figure size 640x480 with 1 Axes>"
            ],
            "image/png": "[encoded data removed]"
          },
          "metadata": {}
        }
      ]
    },
    {
      "cell_type": "code",
      "source": [
        "df[\"Sales\"].skew()"
      ],
      "metadata": {
        "colab": {
          "base_uri": "https://localhost:8080/"
        },
        "id": "bYLB5oqT7T5D",
        "outputId": "dd73d7eb-8d5d-4304-9622-20e91c742380"
      },
      "execution_count": null,
      "outputs": [
        {
          "output_type": "execute_result",
          "data": {
            "text/plain": [
              "-0.07373923537186912"
            ]
          },
          "metadata": {},
          "execution_count": 86
        }
      ]
    },
    {
      "cell_type": "markdown",
      "source": [
        "it indicates a slight left skew (negative skew) in the data"
      ],
      "metadata": {
        "id": "Ia2um6PV7xxf"
      }
    },
    {
      "cell_type": "code",
      "source": [
        "sns.scatterplot(data=df,x=\"Sales\",y=\"TV\",marker=\"o\",s=50)\n",
        "plt.title(\"Relation between Sales and TV\")\n",
        "# Remove the top and right spines\n",
        "sns.despine()\n",
        "plt.show()"
      ],
      "metadata": {
        "colab": {
          "base_uri": "https://localhost:8080/",
          "height": 472
        },
        "id": "TdR87QzqzL-8",
        "outputId": "3f387d10-7bed-4f84-e8fe-7d87499fa2fc"
      },
      "execution_count": null,
      "outputs": [
        {
          "output_type": "display_data",
          "data": {
            "text/plain": [
              "<Figure size 640x480 with 1 Axes>"
            ],
            "image/png": "[encoded data removed]"
          },
          "metadata": {}
        }
      ]
    },
    {
      "cell_type": "markdown",
      "source": [
        "from the above plot we can see the Sales and Tv are sort of linear which means as tv cost advertisement increase sales also increases"
      ],
      "metadata": {
        "id": "bDE0WNHG1DrR"
      }
    },
    {
      "cell_type": "code",
      "source": [
        "fig,axes = plt.subplots(1,2,figsize=(11,5)) #starts from 0 so 0,1=2\n",
        "sns.scatterplot(ax=axes[0],data=df,x=\"Sales\",y=\"Radio\",marker=\"o\",s=50)\n",
        "axes[0].set_title(\"relation between radio and sales\")\n",
        "sns.scatterplot(data=df,x=\"Sales\",y=\"Newspaper\",s=50)\n",
        "axes[1].set_title(\"relation between sales and newspaper\")\n",
        "# Adjust the spacing between subplots\n",
        "plt.tight_layout()"
      ],
      "metadata": {
        "colab": {
          "base_uri": "https://localhost:8080/",
          "height": 375
        },
        "id": "bSv8nEJG3NNS",
        "outputId": "bbf7b060-3411-478f-8136-62e4ca8830e1"
      },
      "execution_count": null,
      "outputs": [
        {
          "output_type": "display_data",
          "data": {
            "text/plain": [
              "<Figure size 1100x500 with 2 Axes>"
            ],
            "image/png": "[encoded data removed]"
          },
          "metadata": {}
        }
      ]
    },
    {
      "cell_type": "markdown",
      "source": [
        "Conclusion:From two scatter plots we can see no positive relation between sales"
      ],
      "metadata": {
        "id": "IORTxH0h4z5i"
      }
    },
    {
      "cell_type": "markdown",
      "source": [
        "checking correlation with sales"
      ],
      "metadata": {
        "id": "mow1sRf2vgvy"
      }
    },
    {
      "cell_type": "code",
      "source": [
        "df.corr()[\"Sales\"].sort_values(ascending=False)"
      ],
      "metadata": {
        "colab": {
          "base_uri": "https://localhost:8080/"
        },
        "id": "seTLDuFs5KzG",
        "outputId": "cdc45bbb-ff8c-48a0-c7f4-62d97b40399e"
      },
      "execution_count": null,
      "outputs": [
        {
          "output_type": "execute_result",
          "data": {
            "text/plain": [
              "Sales        1.000000\n",
              "TV           0.901208\n",
              "Radio        0.349631\n",
              "Newspaper    0.157960\n",
              "Name: Sales, dtype: float64"
            ]
          },
          "metadata": {},
          "execution_count": 92
        }
      ]
    },
    {
      "cell_type": "code",
      "source": [
        "sns.heatmap(df.corr(),annot=True,cmap=\"viridis\")"
      ],
      "metadata": {
        "colab": {
          "base_uri": "https://localhost:8080/",
          "height": 452
        },
        "id": "w9RSlcq3to3f",
        "outputId": "f2cf4e7a-0dda-4ba6-de98-980219de52c3"
      },
      "execution_count": null,
      "outputs": [
        {
          "output_type": "execute_result",
          "data": {
            "text/plain": [
              "<Axes: >"
            ]
          },
          "metadata": {},
          "execution_count": 28
        },
        {
          "output_type": "display_data",
          "data": {
            "text/plain": [
              "<Figure size 640x480 with 2 Axes>"
            ],
            "image/png": "[encoded data removed]"
          },
          "metadata": {}
        }
      ]
    },
    {
      "cell_type": "markdown",
      "source": [
        "conclusion: we can see that TV is highly correlated with sales"
      ],
      "metadata": {
        "id": "rIYLB7L6v7k-"
      }
    },
    {
      "cell_type": "markdown",
      "source": [
        "**Future Sales Prediction Model**"
      ],
      "metadata": {
        "id": "Qr3ip7Ln8x5G"
      }
    },
    {
      "cell_type": "markdown",
      "source": [
        "Now after doing EDA and  knowing the data properly we will train machine learning model to predict the future sales of a product.But before we train the model, let’s split the data into training and test sets:"
      ],
      "metadata": {
        "id": "Gya9Q2sI80Lc"
      }
    },
    {
      "cell_type": "code",
      "source": [
        "X= df.drop(\"Sales\",axis=1)\n",
        "y = df[[\"Sales\"]]"
      ],
      "metadata": {
        "id": "9BGJUci3to6A"
      },
      "execution_count": null,
      "outputs": []
    },
    {
      "cell_type": "code",
      "source": [
        "X_train,X_test,y_train,y_test = train_test_split(X,y,test_size=0.2,random_state=42)"
      ],
      "metadata": {
        "id": "_fW0AAApto9b"
      },
      "execution_count": null,
      "outputs": []
    },
    {
      "cell_type": "code",
      "source": [
        "from sklearn.preprocessing import StandardScaler"
      ],
      "metadata": {
        "id": "PnW65728-54u"
      },
      "execution_count": null,
      "outputs": []
    },
    {
      "cell_type": "code",
      "source": [
        "x_scaled = StandardScaler()"
      ],
      "metadata": {
        "id": "9RM0Rxi9_Hjs"
      },
      "execution_count": null,
      "outputs": []
    },
    {
      "cell_type": "code",
      "source": [
        "X_train_scaled =x_scaled.fit_transform(X_train)"
      ],
      "metadata": {
        "id": "G83nYRTA_Nou"
      },
      "execution_count": null,
      "outputs": []
    },
    {
      "cell_type": "code",
      "source": [
        "X_test_scaled = x_scaled.transform(X_test)"
      ],
      "metadata": {
        "id": "j99m-LxO_bsJ"
      },
      "execution_count": null,
      "outputs": []
    },
    {
      "cell_type": "code",
      "source": [
        "X_train.head()"
      ],
      "metadata": {
        "id": "MnZxddj4tpa3",
        "colab": {
          "base_uri": "https://localhost:8080/",
          "height": 206
        },
        "outputId": "228e8382-d44c-49ed-cf1a-76a3f450c0ff"
      },
      "execution_count": null,
      "outputs": [
        {
          "output_type": "execute_result",
          "data": {
            "text/plain": [
              "        TV  Radio  Newspaper\n",
              "79   116.0    7.7       23.1\n",
              "197  177.0    9.3        6.4\n",
              "38    43.1   26.7       35.1\n",
              "24    62.3   12.6       18.3\n",
              "122  224.0    2.4       15.6"
            ],
            "text/html": [
              "\n",
              "  <div id=\"df-362cc7e4-481a-4cff-b191-9e8319f14c19\">\n",
              "    <div class=\"colab-df-container\">\n",
              "      <div>\n",
              "<style scoped>\n",
              "    .dataframe tbody tr th:only-of-type {\n",
              "        vertical-align: middle;\n",
              "    }\n",
              "\n",
              "    .dataframe tbody tr th {\n",
              "        vertical-align: top;\n",
              "    }\n",
              "\n",
              "    .dataframe thead th {\n",
              "        text-align: right;\n",
              "    }\n",
              "</style>\n",
              "<table border=\"1\" class=\"dataframe\">\n",
              "  <thead>\n",
              "    <tr style=\"text-align: right;\">\n",
              "      <th></th>\n",
              "      <th>TV</th>\n",
              "      <th>Radio</th>\n",
              "      <th>Newspaper</th>\n",
              "    </tr>\n",
              "  </thead>\n",
              "  <tbody>\n",
              "    <tr>\n",
              "      <th>79</th>\n",
              "      <td>116.0</td>\n",
              "      <td>7.7</td>\n",
              "      <td>23.1</td>\n",
              "    </tr>\n",
              "    <tr>\n",
              "      <th>197</th>\n",
              "      <td>177.0</td>\n",
              "      <td>9.3</td>\n",
              "      <td>6.4</td>\n",
              "    </tr>\n",
              "    <tr>\n",
              "      <th>38</th>\n",
              "      <td>43.1</td>\n",
              "      <td>26.7</td>\n",
              "      <td>35.1</td>\n",
              "    </tr>\n",
              "    <tr>\n",
              "      <th>24</th>\n",
              "      <td>62.3</td>\n",
              "      <td>12.6</td>\n",
              "      <td>18.3</td>\n",
              "    </tr>\n",
              "    <tr>\n",
              "      <th>122</th>\n",
              "      <td>224.0</td>\n",
              "      <td>2.4</td>\n",
              "      <td>15.6</td>\n",
              "    </tr>\n",
              "  </tbody>\n",
              "</table>\n",
              "</div>\n",
              "      <button class=\"colab-df-convert\" onclick=\"convertToInteractive('df-362cc7e4-481a-4cff-b191-9e8319f14c19')\"\n",
              "              title=\"Convert this dataframe to an interactive table.\"\n",
              "              style=\"display:none;\">\n",
              "        \n",
              "  <svg xmlns=\"http://www.w3.org/2000/svg\" height=\"24px\"viewBox=\"0 0 24 24\"\n",
              "       width=\"24px\">\n",
              "    <path d=\"M0 0h24v24H0V0z\" fill=\"none\"/>\n",
              "    <path d=\"M18.56 5.44l.94 2.06.94-2.06 2.06-.94-2.06-.94-.94-2.06-.94 2.06-2.06.94zm-11 1L8.5 8.5l.94-2.06 2.06-.94-2.06-.94L8.5 2.5l-.94 2.06-2.06.94zm10 10l.94 2.06.94-2.06 2.06-.94-2.06-.94-.94-2.06-.94 2.06-2.06.94z\"/><path d=\"M17.41 7.96l-1.37-1.37c-.4-.4-.92-.59-1.43-.59-.52 0-1.04.2-1.43.59L10.3 9.45l-7.72 7.72c-.78.78-.78 2.05 0 2.83L4 21.41c.39.39.9.59 1.41.59.51 0 1.02-.2 1.41-.59l7.78-7.78 2.81-2.81c.8-.78.8-2.07 0-2.86zM5.41 20L4 18.59l7.72-7.72 1.47 1.35L5.41 20z\"/>\n",
              "  </svg>\n",
              "      </button>\n",
              "      \n",
              "  <style>\n",
              "    .colab-df-container {\n",
              "      display:flex;\n",
              "      flex-wrap:wrap;\n",
              "      gap: 12px;\n",
              "    }\n",
              "\n",
              "    .colab-df-convert {\n",
              "      background-color: #E8F0FE;\n",
              "      border: none;\n",
              "      border-radius: 50%;\n",
              "      cursor: pointer;\n",
              "      display: none;\n",
              "      fill: #1967D2;\n",
              "      height: 32px;\n",
              "      padding: 0 0 0 0;\n",
              "      width: 32px;\n",
              "    }\n",
              "\n",
              "    .colab-df-convert:hover {\n",
              "      background-color: #E2EBFA;\n",
              "      box-shadow: 0px 1px 2px rgba(60, 64, 67, 0.3), 0px 1px 3px 1px rgba(60, 64, 67, 0.15);\n",
              "      fill: #174EA6;\n",
              "    }\n",
              "\n",
              "    [theme=dark] .colab-df-convert {\n",
              "      background-color: #3B4455;\n",
              "      fill: #D2E3FC;\n",
              "    }\n",
              "\n",
              "    [theme=dark] .colab-df-convert:hover {\n",
              "      background-color: #434B5C;\n",
              "      box-shadow: 0px 1px 3px 1px rgba(0, 0, 0, 0.15);\n",
              "      filter: drop-shadow(0px 1px 2px rgba(0, 0, 0, 0.3));\n",
              "      fill: #FFFFFF;\n",
              "    }\n",
              "  </style>\n",
              "\n",
              "      <script>\n",
              "        const buttonEl =\n",
              "          document.querySelector('#df-362cc7e4-481a-4cff-b191-9e8319f14c19 button.colab-df-convert');\n",
              "        buttonEl.style.display =\n",
              "          google.colab.kernel.accessAllowed ? 'block' : 'none';\n",
              "\n",
              "        async function convertToInteractive(key) {\n",
              "          const element = document.querySelector('#df-362cc7e4-481a-4cff-b191-9e8319f14c19');\n",
              "          const dataTable =\n",
              "            await google.colab.kernel.invokeFunction('convertToInteractive',\n",
              "                                                     [key], {});\n",
              "          if (!dataTable) return;\n",
              "\n",
              "          const docLinkHtml = 'Like what you see? Visit the ' +\n",
              "            '<a target=\"_blank\" href=https://colab.research.google.com/notebooks/data_table.ipynb>data table notebook</a>'\n",
              "            + ' to learn more about interactive tables.';\n",
              "          element.innerHTML = '';\n",
              "          dataTable['output_type'] = 'display_data';\n",
              "          await google.colab.output.renderOutput(dataTable, element);\n",
              "          const docLink = document.createElement('div');\n",
              "          docLink.innerHTML = docLinkHtml;\n",
              "          element.appendChild(docLink);\n",
              "        }\n",
              "      </script>\n",
              "    </div>\n",
              "  </div>\n",
              "  "
            ]
          },
          "metadata": {},
          "execution_count": 99
        }
      ]
    },
    {
      "cell_type": "code",
      "source": [
        "X_test.head()"
      ],
      "metadata": {
        "colab": {
          "base_uri": "https://localhost:8080/",
          "height": 206
        },
        "id": "JWlb7N7i93qV",
        "outputId": "24209cba-ed26-487b-dcf7-a0ec7b56ebe4"
      },
      "execution_count": null,
      "outputs": [
        {
          "output_type": "execute_result",
          "data": {
            "text/plain": [
              "        TV  Radio  Newspaper\n",
              "95   163.3   31.6       52.9\n",
              "15   195.4   47.7       52.9\n",
              "30   292.9   28.3       43.2\n",
              "158   11.7   36.9       45.2\n",
              "128  220.3   49.0        3.2"
            ],
            "text/html": [
              "\n",
              "  <div id=\"df-c9891b31-8540-42e4-b13b-83445621974b\">\n",
              "    <div class=\"colab-df-container\">\n",
              "      <div>\n",
              "<style scoped>\n",
              "    .dataframe tbody tr th:only-of-type {\n",
              "        vertical-align: middle;\n",
              "    }\n",
              "\n",
              "    .dataframe tbody tr th {\n",
              "        vertical-align: top;\n",
              "    }\n",
              "\n",
              "    .dataframe thead th {\n",
              "        text-align: right;\n",
              "    }\n",
              "</style>\n",
              "<table border=\"1\" class=\"dataframe\">\n",
              "  <thead>\n",
              "    <tr style=\"text-align: right;\">\n",
              "      <th></th>\n",
              "      <th>TV</th>\n",
              "      <th>Radio</th>\n",
              "      <th>Newspaper</th>\n",
              "    </tr>\n",
              "  </thead>\n",
              "  <tbody>\n",
              "    <tr>\n",
              "      <th>95</th>\n",
              "      <td>163.3</td>\n",
              "      <td>31.6</td>\n",
              "      <td>52.9</td>\n",
              "    </tr>\n",
              "    <tr>\n",
              "      <th>15</th>\n",
              "      <td>195.4</td>\n",
              "      <td>47.7</td>\n",
              "      <td>52.9</td>\n",
              "    </tr>\n",
              "    <tr>\n",
              "      <th>30</th>\n",
              "      <td>292.9</td>\n",
              "      <td>28.3</td>\n",
              "      <td>43.2</td>\n",
              "    </tr>\n",
              "    <tr>\n",
              "      <th>158</th>\n",
              "      <td>11.7</td>\n",
              "      <td>36.9</td>\n",
              "      <td>45.2</td>\n",
              "    </tr>\n",
              "    <tr>\n",
              "      <th>128</th>\n",
              "      <td>220.3</td>\n",
              "      <td>49.0</td>\n",
              "      <td>3.2</td>\n",
              "    </tr>\n",
              "  </tbody>\n",
              "</table>\n",
              "</div>\n",
              "      <button class=\"colab-df-convert\" onclick=\"convertToInteractive('df-c9891b31-8540-42e4-b13b-83445621974b')\"\n",
              "              title=\"Convert this dataframe to an interactive table.\"\n",
              "              style=\"display:none;\">\n",
              "        \n",
              "  <svg xmlns=\"http://www.w3.org/2000/svg\" height=\"24px\"viewBox=\"0 0 24 24\"\n",
              "       width=\"24px\">\n",
              "    <path d=\"M0 0h24v24H0V0z\" fill=\"none\"/>\n",
              "    <path d=\"M18.56 5.44l.94 2.06.94-2.06 2.06-.94-2.06-.94-.94-2.06-.94 2.06-2.06.94zm-11 1L8.5 8.5l.94-2.06 2.06-.94-2.06-.94L8.5 2.5l-.94 2.06-2.06.94zm10 10l.94 2.06.94-2.06 2.06-.94-2.06-.94-.94-2.06-.94 2.06-2.06.94z\"/><path d=\"M17.41 7.96l-1.37-1.37c-.4-.4-.92-.59-1.43-.59-.52 0-1.04.2-1.43.59L10.3 9.45l-7.72 7.72c-.78.78-.78 2.05 0 2.83L4 21.41c.39.39.9.59 1.41.59.51 0 1.02-.2 1.41-.59l7.78-7.78 2.81-2.81c.8-.78.8-2.07 0-2.86zM5.41 20L4 18.59l7.72-7.72 1.47 1.35L5.41 20z\"/>\n",
              "  </svg>\n",
              "      </button>\n",
              "      \n",
              "  <style>\n",
              "    .colab-df-container {\n",
              "      display:flex;\n",
              "      flex-wrap:wrap;\n",
              "      gap: 12px;\n",
              "    }\n",
              "\n",
              "    .colab-df-convert {\n",
              "      background-color: #E8F0FE;\n",
              "      border: none;\n",
              "      border-radius: 50%;\n",
              "      cursor: pointer;\n",
              "      display: none;\n",
              "      fill: #1967D2;\n",
              "      height: 32px;\n",
              "      padding: 0 0 0 0;\n",
              "      width: 32px;\n",
              "    }\n",
              "\n",
              "    .colab-df-convert:hover {\n",
              "      background-color: #E2EBFA;\n",
              "      box-shadow: 0px 1px 2px rgba(60, 64, 67, 0.3), 0px 1px 3px 1px rgba(60, 64, 67, 0.15);\n",
              "      fill: #174EA6;\n",
              "    }\n",
              "\n",
              "    [theme=dark] .colab-df-convert {\n",
              "      background-color: #3B4455;\n",
              "      fill: #D2E3FC;\n",
              "    }\n",
              "\n",
              "    [theme=dark] .colab-df-convert:hover {\n",
              "      background-color: #434B5C;\n",
              "      box-shadow: 0px 1px 3px 1px rgba(0, 0, 0, 0.15);\n",
              "      filter: drop-shadow(0px 1px 2px rgba(0, 0, 0, 0.3));\n",
              "      fill: #FFFFFF;\n",
              "    }\n",
              "  </style>\n",
              "\n",
              "      <script>\n",
              "        const buttonEl =\n",
              "          document.querySelector('#df-c9891b31-8540-42e4-b13b-83445621974b button.colab-df-convert');\n",
              "        buttonEl.style.display =\n",
              "          google.colab.kernel.accessAllowed ? 'block' : 'none';\n",
              "\n",
              "        async function convertToInteractive(key) {\n",
              "          const element = document.querySelector('#df-c9891b31-8540-42e4-b13b-83445621974b');\n",
              "          const dataTable =\n",
              "            await google.colab.kernel.invokeFunction('convertToInteractive',\n",
              "                                                     [key], {});\n",
              "          if (!dataTable) return;\n",
              "\n",
              "          const docLinkHtml = 'Like what you see? Visit the ' +\n",
              "            '<a target=\"_blank\" href=https://colab.research.google.com/notebooks/data_table.ipynb>data table notebook</a>'\n",
              "            + ' to learn more about interactive tables.';\n",
              "          element.innerHTML = '';\n",
              "          dataTable['output_type'] = 'display_data';\n",
              "          await google.colab.output.renderOutput(dataTable, element);\n",
              "          const docLink = document.createElement('div');\n",
              "          docLink.innerHTML = docLinkHtml;\n",
              "          element.appendChild(docLink);\n",
              "        }\n",
              "      </script>\n",
              "    </div>\n",
              "  </div>\n",
              "  "
            ]
          },
          "metadata": {},
          "execution_count": 113
        }
      ]
    },
    {
      "cell_type": "code",
      "source": [
        "X_train_scaled"
      ],
      "metadata": {
        "colab": {
          "base_uri": "https://localhost:8080/"
        },
        "id": "gOb2rtbM_iV4",
        "outputId": "c4fcada8-b739-4ac0-f32a-6a76038a22e1"
      },
      "execution_count": null,
      "outputs": [
        {
          "output_type": "execute_result",
          "data": {
            "text/plain": [
              "array([[-4.04248386e-01, -1.02823707e+00, -3.37675384e-01],\n",
              "       [ 3.20607716e-01, -9.19827737e-01, -1.16143931e+00],\n",
              "       [-1.27051084e+00,  2.59123702e-01,  2.54250789e-01],\n",
              "       [-1.04235941e+00, -6.96233499e-01, -5.74445854e-01],\n",
              "       [ 8.79103401e-01, -1.38734296e+00, -7.07629243e-01],\n",
              "       [-1.32873699e+00, -1.29926038e+00, -7.96418169e-01],\n",
              "       [-9.43731452e-01, -4.65863678e-01,  5.35415722e-01],\n",
              "       [-3.23140256e-02,  6.94073782e-02, -5.34984109e-01],\n",
              "       [-5.39713297e-01, -1.16374872e+00,  2.19721762e-01],\n",
              "       [-8.75998996e-01,  3.13328366e-01, -6.87898371e-01],\n",
              "       [-8.53421511e-01,  1.62101588e+00,  2.24654481e-01],\n",
              "       [ 2.18414888e-01, -1.06889056e+00, -8.45745350e-01],\n",
              "       [-1.67928215e+00,  1.76330312e+00,  2.22240532e+00],\n",
              "       [-1.68997675e+00,  1.08574483e+00,  1.01882210e+00],\n",
              "       [-8.74810708e-01, -1.49575229e+00, -7.47090988e-01],\n",
              "       [-2.45017701e-01, -1.16374872e+00,  6.68075010e-02],\n",
              "       [-9.10459368e-01, -3.98107848e-01, -8.40812632e-01],\n",
              "       [ 1.65980907e+00,  1.31611465e+00,  1.04841841e+00],\n",
              "       [-1.54975868e+00, -1.88064775e-01, -6.38571189e-01],\n",
              "       [ 5.65395186e-01, -1.31281155e+00, -1.18610290e+00],\n",
              "       [ 1.59564148e+00, -8.31745159e-01, -1.16143931e+00],\n",
              "       [ 4.14482522e-01, -1.27084528e-01, -3.91935284e-01],\n",
              "       [-4.41085335e-01, -3.71005516e-01,  4.26895923e-01],\n",
              "       [-1.49985056e+00,  8.28272672e-01,  1.77352797e+00],\n",
              "       [ 1.67169196e+00, -1.27215805e+00, -1.05785223e+00],\n",
              "       [-1.55213526e+00, -4.65863678e-01, -3.77137129e-01],\n",
              "       [ 1.70615233e+00,  3.26879532e-01, -1.38834434e+00],\n",
              "       [-1.56045328e+00, -7.30111414e-01, -3.22877230e-01],\n",
              "       [-1.86791555e-01, -1.21795339e+00, -1.01839048e+00],\n",
              "       [-1.47846136e+00,  1.09252041e+00, -1.01839048e+00],\n",
              "       [-5.89621422e-01, -8.99500988e-01, -1.29955542e+00],\n",
              "       [-8.29655737e-01, -1.54995695e+00, -1.02332320e+00],\n",
              "       [ 4.56072627e-01, -3.23576435e-01, -2.14357432e-01],\n",
              "       [ 3.20607716e-01,  7.13087762e-01,  4.31828641e-01],\n",
              "       [-2.88984383e-01,  9.50233166e-01,  2.42957948e+00],\n",
              "       [ 7.07989829e-01, -1.54186860e-01, -9.49332431e-01],\n",
              "       [-8.45987280e-02,  4.35288859e-01, -8.55610786e-01],\n",
              "       [ 4.14482522e-01,  1.42452397e+00, -1.39327706e+00],\n",
              "       [ 8.60090782e-01, -1.25860689e+00,  9.79360352e-01],\n",
              "       [ 1.08943050e+00,  1.02476458e+00, -3.32742666e-01],\n",
              "       [-1.57827761e+00,  1.56003563e+00,  1.94124038e+00],\n",
              "       [-3.50775395e-01,  3.81084195e-01, -7.76687297e-01],\n",
              "       [-7.16768312e-01, -8.79174239e-01,  2.83847098e-01],\n",
              "       [ 4.88156421e-01,  3.94635361e-01, -5.79378572e-01],\n",
              "       [-8.85505306e-01, -8.18193993e-01, -1.18117018e+00],\n",
              "       [ 5.13110484e-01, -3.03249686e-01,  1.76366253e+00],\n",
              "       [-7.64299859e-01,  8.75701753e-01,  9.54696761e-01],\n",
              "       [ 1.38887925e+00,  1.41774839e+00, -1.23049736e+00],\n",
              "       [-1.31328923e+00,  1.23480765e+00, -1.19103562e+00],\n",
              "       [ 1.32233508e+00,  1.34321698e+00,  1.22106354e+00],\n",
              "       [-1.62580916e+00, -4.72639260e-01,  9.69494916e-01],\n",
              "       [ 5.19051927e-01,  8.48599421e-01,  2.25200163e+00],\n",
              "       [ 1.73942441e+00,  9.09579668e-01,  3.49997931e+00],\n",
              "       [ 1.37343150e+00, -1.94840358e-01, -1.46233511e+00],\n",
              "       [ 7.68592552e-01,  7.61829612e-02, -1.27982454e+00],\n",
              "       [-3.79509701e-03,  8.62150587e-01, -1.18117018e+00],\n",
              "       [-2.17687061e-01, -3.03249686e-01,  2.29587199e-01],\n",
              "       [-1.09939727e+00,  6.72434264e-01, -3.17944512e-01],\n",
              "       [ 1.07041788e+00, -4.18434597e-01, -3.47540821e-01],\n",
              "       [-1.03611347e-01,  2.65899285e-01,  8.01782500e-01],\n",
              "       [ 3.65762686e-01, -8.18193993e-01,  1.40357411e+00],\n",
              "       [-6.27646660e-01, -1.44832321e+00,  2.68216547e-03],\n",
              "       [ 8.37513296e-01,  6.99536596e-01,  3.92366896e-01],\n",
              "       [-1.15494234e-01, -1.42122088e+00, -1.03318864e+00],\n",
              "       [ 1.25222605e+00,  2.72674868e-01, -1.20583377e+00],\n",
              "       [-6.39529547e-01, -5.47170673e-01,  4.41694078e-01],\n",
              "       [-9.97204443e-01, -1.15697314e+00, -2.83415485e-01],\n",
              "       [ 1.06091157e+00, -4.99741592e-01, -1.30501224e-01],\n",
              "       [ 3.05159963e-01, -5.06517175e-01, -1.35874803e+00],\n",
              "       [ 1.07041788e+00, -1.05533940e+00, -1.04798679e+00],\n",
              "       [-1.56995959e+00,  9.97662247e-01, -4.11666156e-01],\n",
              "       [ 9.51589011e-01,  1.01121341e+00,  1.93630767e+00],\n",
              "       [ 1.58732346e+00,  1.29578790e+00,  1.78832612e+00],\n",
              "       [ 2.52875260e-01,  1.13994949e+00,  3.82501460e-01],\n",
              "       [ 5.83219517e-01,  5.23371438e-01,  4.31828641e-01],\n",
              "       [-3.19879889e-01,  7.94394757e-01, -8.65476223e-01],\n",
              "       [-2.24816794e-01,  1.34999256e+00, -5.15777338e-02],\n",
              "       [-1.48440281e+00,  1.91367872e-01,  6.58733675e-01],\n",
              "       [ 1.60188742e-01,  9.43457583e-01, -1.11211213e+00],\n",
              "       [ 1.17379900e+00,  2.86226034e-01, -3.47540821e-01],\n",
              "       [ 6.23621332e-01, -3.90019495e-02,  8.16056553e-02],\n",
              "       [-1.62699745e+00, -1.52285462e+00, -2.14357432e-01],\n",
              "       [-1.73394343e+00, -7.63989329e-01, -1.19596834e+00],\n",
              "       [-6.66860187e-01,  1.39742164e+00,  1.01388938e+00],\n",
              "       [ 1.34134770e+00, -1.31281155e+00, -5.15253237e-01],\n",
              "       [ 9.30199814e-01, -4.04883431e-01, -1.84761123e-01],\n",
              "       [ 1.23321343e+00, -1.06757779e-01,  2.68216547e-03],\n",
              "       [ 1.10725483e+00,  1.77007871e+00,  7.08060856e-01],\n",
              "       [ 1.06685301e+00, -1.27215805e+00,  3.43039715e-01],\n",
              "       [ 9.26634948e-01,  1.00443783e+00,  1.01336528e-01],\n",
              "       [ 7.76910573e-01,  4.90806292e-02,  1.36411236e+00],\n",
              "       [ 1.06804130e+00,  1.26190998e+00, -5.64580418e-01],\n",
              "       [-5.06441213e-01, -6.01375337e-01, -9.39466994e-01],\n",
              "       [ 4.48942894e-01, -1.20308945e-01, -1.00852505e+00],\n",
              "       [ 6.75906034e-01, -9.80807984e-01, -1.74895687e-01],\n",
              "       [-1.27169913e+00,  2.04919038e-01, -4.65926055e-01],\n",
              "       [ 1.75940994e-02,  1.24835882e+00,  1.40850683e+00],\n",
              "       [-1.44013163e-01,  1.59391355e+00,  1.43317042e+00],\n",
              "       [ 3.87151882e-01,  1.58036238e+00,  1.41837226e+00],\n",
              "       [ 8.29195276e-01,  7.19863345e-01,  7.47522601e-01],\n",
              "       [ 7.81968227e-02, -1.37379180e+00, -1.06771767e+00],\n",
              "       [ 1.50533154e+00, -1.39411855e+00, -3.08079076e-01],\n",
              "       [ 6.53328549e-01,  1.50583097e+00, -5.10320518e-01],\n",
              "       [-9.87698133e-01, -7.57213746e-01,  3.38106997e-01],\n",
              "       [-8.74810708e-01,  2.59123702e-01, -3.77137129e-01],\n",
              "       [-6.45470990e-01, -1.45509879e+00, -1.11211213e+00],\n",
              "       [-3.54340261e-01, -2.21942690e-01, -9.04937968e-01],\n",
              "       [ 9.00492597e-01, -9.94359150e-01,  1.30985247e+00],\n",
              "       [-1.44281270e+00, -1.44832321e+00,  1.50663709e-01],\n",
              "       [-9.69873803e-01,  1.46517747e+00,  2.78914380e-01],\n",
              "       [ 1.16904584e+00,  4.96269106e-01, -4.75791492e-01],\n",
              "       [ 8.13747523e-01, -1.18407547e+00, -1.25568505e-01],\n",
              "       [-4.77922285e-01,  1.68877171e+00,  1.05828384e+00],\n",
              "       [-1.68047044e+00, -1.40766971e+00, -1.42780609e+00],\n",
              "       [-6.24081794e-01, -1.03501265e+00, -1.12197756e+00],\n",
              "       [ 7.21061005e-01,  4.48840025e-01, -1.01839048e+00],\n",
              "       [ 1.72071629e-01, -1.33860111e-01,  8.60975117e-01],\n",
              "       [ 1.36867834e+00, -1.35346505e+00,  6.43935520e-01],\n",
              "       [ 1.56118111e+00,  1.13317391e+00,  1.27532344e+00],\n",
              "       [-1.46420190e+00,  6.85985430e-01, -5.25118673e-01],\n",
              "       [ 1.50770812e+00,  1.76330312e+00,  5.84742903e-01],\n",
              "       [-1.34418474e+00,  1.06541808e+00,  1.75872981e+00],\n",
              "       [ 6.74717746e-01, -1.19762664e+00, -5.20185955e-01],\n",
              "       [ 1.63485501e+00,  1.36354373e+00,  2.06455834e+00],\n",
              "       [-5.62290782e-01,  4.55615608e-01, -1.06278495e+00],\n",
              "       [ 1.33897112e+00,  4.01410944e-01, -6.92831089e-01],\n",
              "       [-7.08450291e-01, -1.52963021e+00, -3.32742666e-01],\n",
              "       [ 5.91537537e-01, -1.33991388e+00,  2.29587199e-01],\n",
              "       [-6.63295321e-01, -1.21795339e+00, -1.07758310e+00],\n",
              "       [ 7.22249293e-01,  1.81073220e+00,  3.82501460e-01],\n",
              "       [ 9.17128639e-01, -4.79414843e-01,  9.84293070e-01],\n",
              "       [-7.33404353e-01,  1.77816706e-01,  2.14348183e+00],\n",
              "       [ 1.03833409e+00, -1.20440222e+00, -3.17944512e-01],\n",
              "       [-1.64214070e-01, -2.49045022e-01, -6.58302062e-01],\n",
              "       [ 2.67134725e-01, -3.23576435e-01,  3.72111923e-02],\n",
              "       [-1.57827761e+00, -1.27215805e+00,  8.16056553e-02],\n",
              "       [-1.07444321e+00, -7.36886997e-01,  6.48868238e-01],\n",
              "       [-8.95011616e-01,  1.79718104e+00,  7.77118909e-01],\n",
              "       [-2.60680832e-03, -1.46187438e+00, -2.78482767e-01],\n",
              "       [ 1.99402269e-01,  1.29578790e+00, -1.29955542e+00],\n",
              "       [-1.25387480e+00,  1.11284716e+00,  7.47522601e-01],\n",
              "       [ 7.88793460e-01,  1.27546115e+00,  4.76223104e-01],\n",
              "       [-1.25149822e+00,  1.98143455e-01, -4.60993337e-01],\n",
              "       [-1.77434525e+00,  1.13317391e+00, -1.04798679e+00],\n",
              "       [-3.44833951e-01, -9.80807984e-01,  9.25100453e-01],\n",
              "       [ 4.50131183e-01, -3.84556682e-01, -5.94176726e-01],\n",
              "       [-1.76096957e-01,  1.27546115e+00,  7.86984346e-01],\n",
              "       [-1.28565410e-01, -5.81048588e-01, -2.14357432e-01],\n",
              "       [-4.67227687e-01,  1.20092974e+00,  1.64034458e+00],\n",
              "       [ 7.53144799e-01,  1.16836459e-01, -8.30947196e-01],\n",
              "       [-1.55926499e+00, -7.96554474e-02,  1.00895666e+00],\n",
              "       [ 9.75354785e-01, -9.67256818e-01, -1.04798679e+00],\n",
              "       [ 8.12559234e-01,  3.26879532e-01,  1.15693820e+00],\n",
              "       [ 1.61584239e+00, -6.08150920e-01, -1.29462270e+00],\n",
              "       [-4.77922285e-01, -5.81048588e-01,  8.65383734e-02],\n",
              "       [-1.48559110e+00, -8.04642827e-01, -1.21159889e-02],\n",
              "       [ 6.42633951e-01,  6.79209847e-01,  7.91917064e-01],\n",
              "       [ 8.04241213e-01,  7.19863345e-01,  1.43317042e+00],\n",
              "       [ 1.85142805e-01, -8.72398657e-01, -6.08974881e-01],\n",
              "       [ 1.54692165e+00, -8.65623074e-01, -4.21531592e-01]])"
            ]
          },
          "metadata": {},
          "execution_count": 116
        }
      ]
    },
    {
      "cell_type": "code",
      "source": [
        "X_test_scaled"
      ],
      "metadata": {
        "colab": {
          "base_uri": "https://localhost:8080/"
        },
        "id": "foThTG_PALdp",
        "outputId": "d5867860-fc45-45f2-8c6e-cc3e0428070f"
      },
      "execution_count": null,
      "outputs": [
        {
          "output_type": "execute_result",
          "data": {
            "text/plain": [
              "array([[ 0.15781217,  0.59112727,  1.13227461],\n",
              "       [ 0.53925283,  1.68199613,  1.13227461],\n",
              "       [ 1.69783431,  0.36753303,  0.65380096],\n",
              "       [-1.64363349,  0.95023317,  0.75245532],\n",
              "       [ 0.83513672,  1.77007871, -1.31928629],\n",
              "       [-0.89025846,  0.82149709,  1.12240918],\n",
              "       [ 0.79354661,  1.42452397, -0.13543394],\n",
              "       [-1.18851892, -0.76398933, -0.56951314],\n",
              "       [ 0.86009078, -1.31958713, -0.8309472 ],\n",
              "       [ 0.29803023, -0.02545078,  0.07667294],\n",
              "       [-1.40835233,  0.11683646, -1.36861347],\n",
              "       [-1.11484502, -1.16374872, -0.01211599],\n",
              "       [ 1.00387371, -1.31958713,  2.70581169],\n",
              "       [-1.71849568,  0.47594236, -1.01345777],\n",
              "       [-0.12500054, -1.40766971, -0.16503025],\n",
              "       [ 0.23980408, -1.02146148,  0.25918351],\n",
              "       [-1.69591819,  0.35398186,  0.56501203],\n",
              "       [ 0.56539519,  0.02875388, -0.7766873 ],\n",
              "       [-0.88788188, -0.17451361,  0.12600012],\n",
              "       [ 1.03833409,  0.31332837, -0.93453428],\n",
              "       [ 0.94445928,  0.63855635,  2.18294357],\n",
              "       [-0.97700354,  0.92990642,  4.14616538],\n",
              "       [-1.33111357,  1.18060299, -0.89013981],\n",
              "       [ 1.19875306,  0.92313083,  2.08922193],\n",
              "       [-0.96274407, -0.91982774, -1.43273881],\n",
              "       [-1.14692882, -1.4144453 , -0.42153159],\n",
              "       [ 0.75433309,  1.36354373,  0.19012545],\n",
              "       [-0.12737712, -0.56749742, -0.97399602],\n",
              "       [-0.74647553, -0.75043816, -0.19955928],\n",
              "       [-1.68284702,  0.29300162, -1.37354619],\n",
              "       [ 0.59153754, -1.3737918 , -0.43139703],\n",
              "       [-0.96036749, -0.16096244, -0.57444585],\n",
              "       [ 0.58084294,  1.79718104,  1.4824976 ],\n",
              "       [-1.58184248,  1.41097281,  2.93271673],\n",
              "       [ 1.55286309, -0.60815092,  0.34797243],\n",
              "       [ 1.04784039,  0.77406801, -1.21569921],\n",
              "       [-1.20871983,  1.63456705, -1.05785223],\n",
              "       [ 1.46968288,  0.40818653,  1.46769945],\n",
              "       [-0.38998892, -0.55394626, -1.21076649],\n",
              "       [-1.45588388, -1.44154763, -0.45606062]])"
            ]
          },
          "metadata": {},
          "execution_count": 117
        }
      ]
    },
    {
      "cell_type": "code",
      "source": [
        "from sklearn.preprocessing import PowerTransformer"
      ],
      "metadata": {
        "id": "a61LXE1LDtuW"
      },
      "execution_count": 137,
      "outputs": []
    },
    {
      "cell_type": "code",
      "source": [
        "transformer = PowerTransformer(method='yeo-johnson')"
      ],
      "metadata": {
        "id": "G0xir7zvD0oy"
      },
      "execution_count": 144,
      "outputs": []
    },
    {
      "cell_type": "code",
      "source": [
        "#transform the scaled data\n",
        "X_train_transformed=transformer.fit_transform(X_train_scaled)\n",
        "X_test_transformed=transformer.fit_transform(X_test_scaled)"
      ],
      "metadata": {
        "id": "j-NmGCUMD6rd"
      },
      "execution_count": 145,
      "outputs": []
    },
    {
      "cell_type": "markdown",
      "source": [
        "_lets use LinearRegression model in normal and scaling data"
      ],
      "metadata": {
        "id": "zZOa5gcxAUS3"
      }
    },
    {
      "cell_type": "code",
      "source": [
        "lr1 = LinearRegression()\n",
        "lr2 = LinearRegression()"
      ],
      "metadata": {
        "id": "qN9cakyyALgR"
      },
      "execution_count": 146,
      "outputs": []
    },
    {
      "cell_type": "code",
      "source": [
        "lr1.fit(X_train,y_train)\n",
        "lr2.fit(X_train_transformed,y_train)"
      ],
      "metadata": {
        "id": "jCIMu1ofALjq",
        "colab": {
          "base_uri": "https://localhost:8080/",
          "height": 75
        },
        "outputId": "e5c6479d-2dfa-43cc-a4f9-ef98725914af"
      },
      "execution_count": 147,
      "outputs": [
        {
          "output_type": "execute_result",
          "data": {
            "text/plain": [
              "LinearRegression()"
            ],
            "text/html": [
              "<style>#sk-container-id-3 {color: black;background-color: white;}#sk-container-id-3 pre{padding: 0;}#sk-container-id-3 div.sk-toggleable {background-color: white;}#sk-container-id-3 label.sk-toggleable__label {cursor: pointer;display: block;width: 100%;margin-bottom: 0;padding: 0.3em;box-sizing: border-box;text-align: center;}#sk-container-id-3 label.sk-toggleable__label-arrow:before {content: \"▸\";float: left;margin-right: 0.25em;color: #696969;}#sk-container-id-3 label.sk-toggleable__label-arrow:hover:before {color: black;}#sk-container-id-3 div.sk-estimator:hover label.sk-toggleable__label-arrow:before {color: black;}#sk-container-id-3 div.sk-toggleable__content {max-height: 0;max-width: 0;overflow: hidden;text-align: left;background-color: #f0f8ff;}#sk-container-id-3 div.sk-toggleable__content pre {margin: 0.2em;color: black;border-radius: 0.25em;background-color: #f0f8ff;}#sk-container-id-3 input.sk-toggleable__control:checked~div.sk-toggleable__content {max-height: 200px;max-width: 100%;overflow: auto;}#sk-container-id-3 input.sk-toggleable__control:checked~label.sk-toggleable__label-arrow:before {content: \"▾\";}#sk-container-id-3 div.sk-estimator input.sk-toggleable__control:checked~label.sk-toggleable__label {background-color: #d4ebff;}#sk-container-id-3 div.sk-label input.sk-toggleable__control:checked~label.sk-toggleable__label {background-color: #d4ebff;}#sk-container-id-3 input.sk-hidden--visually {border: 0;clip: rect(1px 1px 1px 1px);clip: rect(1px, 1px, 1px, 1px);height: 1px;margin: -1px;overflow: hidden;padding: 0;position: absolute;width: 1px;}#sk-container-id-3 div.sk-estimator {font-family: monospace;background-color: #f0f8ff;border: 1px dotted black;border-radius: 0.25em;box-sizing: border-box;margin-bottom: 0.5em;}#sk-container-id-3 div.sk-estimator:hover {background-color: #d4ebff;}#sk-container-id-3 div.sk-parallel-item::after {content: \"\";width: 100%;border-bottom: 1px solid gray;flex-grow: 1;}#sk-container-id-3 div.sk-label:hover label.sk-toggleable__label {background-color: #d4ebff;}#sk-container-id-3 div.sk-serial::before {content: \"\";position: absolute;border-left: 1px solid gray;box-sizing: border-box;top: 0;bottom: 0;left: 50%;z-index: 0;}#sk-container-id-3 div.sk-serial {display: flex;flex-direction: column;align-items: center;background-color: white;padding-right: 0.2em;padding-left: 0.2em;position: relative;}#sk-container-id-3 div.sk-item {position: relative;z-index: 1;}#sk-container-id-3 div.sk-parallel {display: flex;align-items: stretch;justify-content: center;background-color: white;position: relative;}#sk-container-id-3 div.sk-item::before, #sk-container-id-3 div.sk-parallel-item::before {content: \"\";position: absolute;border-left: 1px solid gray;box-sizing: border-box;top: 0;bottom: 0;left: 50%;z-index: -1;}#sk-container-id-3 div.sk-parallel-item {display: flex;flex-direction: column;z-index: 1;position: relative;background-color: white;}#sk-container-id-3 div.sk-parallel-item:first-child::after {align-self: flex-end;width: 50%;}#sk-container-id-3 div.sk-parallel-item:last-child::after {align-self: flex-start;width: 50%;}#sk-container-id-3 div.sk-parallel-item:only-child::after {width: 0;}#sk-container-id-3 div.sk-dashed-wrapped {border: 1px dashed gray;margin: 0 0.4em 0.5em 0.4em;box-sizing: border-box;padding-bottom: 0.4em;background-color: white;}#sk-container-id-3 div.sk-label label {font-family: monospace;font-weight: bold;display: inline-block;line-height: 1.2em;}#sk-container-id-3 div.sk-label-container {text-align: center;}#sk-container-id-3 div.sk-container {/* jupyter's `normalize.less` sets `[hidden] { display: none; }` but bootstrap.min.css set `[hidden] { display: none !important; }` so we also need the `!important` here to be able to override the default hidden behavior on the sphinx rendered scikit-learn.org. See: https://github.com/scikit-learn/scikit-learn/issues/21755 */display: inline-block !important;position: relative;}#sk-container-id-3 div.sk-text-repr-fallback {display: none;}</style><div id=\"sk-container-id-3\" class=\"sk-top-container\"><div class=\"sk-text-repr-fallback\"><pre>LinearRegression()</pre><b>In a Jupyter environment, please rerun this cell to show the HTML representation or trust the notebook. <br />On GitHub, the HTML representation is unable to render, please try loading this page with nbviewer.org.</b></div><div class=\"sk-container\" hidden><div class=\"sk-item\"><div class=\"sk-estimator sk-toggleable\"><input class=\"sk-toggleable__control sk-hidden--visually\" id=\"sk-estimator-id-3\" type=\"checkbox\" checked><label for=\"sk-estimator-id-3\" class=\"sk-toggleable__label sk-toggleable__label-arrow\">LinearRegression</label><div class=\"sk-toggleable__content\"><pre>LinearRegression()</pre></div></div></div></div></div>"
            ]
          },
          "metadata": {},
          "execution_count": 147
        }
      ]
    },
    {
      "cell_type": "code",
      "source": [
        "y_pred=lr1.predict(X_test)\n",
        "y_pred2 = lr2.predict(X_test_transformed)"
      ],
      "metadata": {
        "id": "AkpxpAAx93tn"
      },
      "execution_count": 148,
      "outputs": []
    },
    {
      "cell_type": "code",
      "source": [
        "from sklearn.metrics import r2_score"
      ],
      "metadata": {
        "id": "b5AElhoq94LC"
      },
      "execution_count": 122,
      "outputs": []
    },
    {
      "cell_type": "code",
      "source": [
        "r2 = r2_score(y_test,y_pred)*100\n",
        "r2_pred2 = r2_score(y_test,y_pred2)*100\n",
        "print(\"r2 score:\",r2)\n",
        "print(\"r2 score:\",r2_pred2)"
      ],
      "metadata": {
        "id": "lPs0TLRY94Om",
        "colab": {
          "base_uri": "https://localhost:8080/"
        },
        "outputId": "bb025a51-680a-4db1-bcb5-04ce72492aa5"
      },
      "execution_count": 149,
      "outputs": [
        {
          "output_type": "stream",
          "name": "stdout",
          "text": [
            "r2 score: 90.59011844150827\n",
            "r2 score: 87.61944131195602\n"
          ]
        }
      ]
    },
    {
      "cell_type": "code",
      "source": [
        "#lets do cross validation\n",
        "from sklearn.model_selection import cross_val_score\n",
        "np.mean(cross_val_score(lr1,X_train,y_train,cv=5,scoring=\"r2\")*100)"
      ],
      "metadata": {
        "id": "GRJtRUP2tqf4",
        "colab": {
          "base_uri": "https://localhost:8080/"
        },
        "outputId": "4fda85a7-e546-44cd-f4a1-4859604bb1ea"
      },
      "execution_count": 150,
      "outputs": [
        {
          "output_type": "execute_result",
          "data": {
            "text/plain": [
              "88.79742522131366"
            ]
          },
          "metadata": {},
          "execution_count": 150
        }
      ]
    },
    {
      "cell_type": "code",
      "source": [
        "np.mean(cross_val_score(lr2,X_train_transformed,y_train,cv=5,scoring=\"r2\")*100)"
      ],
      "metadata": {
        "colab": {
          "base_uri": "https://localhost:8080/"
        },
        "id": "Ew9HhLCFCm88",
        "outputId": "bf0a2590-765d-42dc-a47c-8ac810093cdc"
      },
      "execution_count": 151,
      "outputs": [
        {
          "output_type": "execute_result",
          "data": {
            "text/plain": [
              "87.90570230227559"
            ]
          },
          "metadata": {},
          "execution_count": 151
        }
      ]
    },
    {
      "cell_type": "markdown",
      "source": [
        "Now let’s input values into the model according to the features we have used to train it and predict how many units of the product can be sold based on the amount spent on its advertising on various platforms:"
      ],
      "metadata": {
        "id": "lK6jZAxTCZhY"
      }
    },
    {
      "cell_type": "code",
      "source": [
        "#features = [[TV, Radio, Newspaper]]\n",
        "features = np.array([[230.1, 37.8, 69.2]])\n",
        "print(lr1.predict(features))"
      ],
      "metadata": {
        "id": "HBQTnb6etqji",
        "colab": {
          "base_uri": "https://localhost:8080/"
        },
        "outputId": "60c3aaef-2c3d-418d-b02c-101e49fd0511"
      },
      "execution_count": 152,
      "outputs": [
        {
          "output_type": "stream",
          "name": "stdout",
          "text": [
            "[[21.37254028]]\n"
          ]
        },
        {
          "output_type": "stream",
          "name": "stderr",
          "text": [
            "/usr/local/lib/python3.10/dist-packages/sklearn/base.py:439: UserWarning: X does not have valid feature names, but LinearRegression was fitted with feature names\n",
            "  warnings.warn(\n"
          ]
        }
      ]
    },
    {
      "cell_type": "markdown",
      "source": [
        "**Summary**"
      ],
      "metadata": {
        "id": "bf_aauKmFaP4"
      }
    },
    {
      "cell_type": "markdown",
      "source": [
        "So this is how we can train a machine learning model to predict the future sales of a product. Predicting the future sales of a product helps a business manage the manufacturing and advertising cost of the product"
      ],
      "metadata": {
        "id": "OD1XDLiXHE2S"
      }
    }
  ]
}